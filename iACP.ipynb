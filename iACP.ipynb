{
  "nbformat": 4,
  "nbformat_minor": 0,
  "metadata": {
    "colab": {
      "provenance": [],
      "toc_visible": true,
      "authorship_tag": "ABX9TyMFllUFoTm1W3W4YYmBdDkx",
      "include_colab_link": true
    },
    "kernelspec": {
      "name": "python3",
      "display_name": "Python 3"
    },
    "language_info": {
      "name": "python"
    }
  },
  "cells": [
    {
      "cell_type": "markdown",
      "metadata": {
        "id": "view-in-github",
        "colab_type": "text"
      },
      "source": [
        "<a href=\"https://colab.research.google.com/github/inshra12/iACP-Replication-AAC-DPC/blob/main/iACP.ipynb\" target=\"_parent\"><img src=\"https://colab.research.google.com/assets/colab-badge.svg\" alt=\"Open In Colab\"/></a>"
      ]
    },
    {
      "cell_type": "markdown",
      "source": [
        "# iACP anticancer peptides"
      ],
      "metadata": {
        "id": "rPFB1QDWRaWx"
      }
    },
    {
      "cell_type": "markdown",
      "source": [
        "## Importing Libraries"
      ],
      "metadata": {
        "id": "D85lc74mRmIb"
      }
    },
    {
      "cell_type": "code",
      "execution_count": 70,
      "metadata": {
        "id": "W6_TGGn8z5K2"
      },
      "outputs": [],
      "source": [
        "import pandas as pd\n",
        "import numpy as np\n",
        "from sklearn.model_selection import cross_val_score\n",
        "\n",
        "from sklearn.model_selection import train_test_split\n",
        "from sklearn.metrics import accuracy_score, confusion_matrix, classification_report\n",
        "\n",
        "\n",
        "from sklearn.linear_model import LogisticRegression\n",
        "from sklearn.ensemble import RandomForestClassifier\n",
        "from sklearn.tree import DecisionTreeClassifier\n",
        "from sklearn.naive_bayes import GaussianNB\n",
        "from sklearn.svm import SVC\n",
        "from sklearn.neighbors import KNeighborsClassifier"
      ]
    },
    {
      "cell_type": "markdown",
      "source": [
        "## Read CSV File"
      ],
      "metadata": {
        "id": "_MBabrRBRrsp"
      }
    },
    {
      "cell_type": "code",
      "source": [
        "df = pd.read_csv('/content/iACP_dataset.csv')"
      ],
      "metadata": {
        "id": "kn6j_3QFQ6Qr"
      },
      "execution_count": 37,
      "outputs": []
    },
    {
      "cell_type": "code",
      "source": [
        "#print(df)\n",
        "#print(df.info())\n",
        "print(\"\\nClass Distribution:\")\n",
        "print(df['Label'].value_counts())\n"
      ],
      "metadata": {
        "collapsed": true,
        "id": "LwmVbO9GRJ50",
        "outputId": "e8b1977b-c0cc-484c-921c-38df462d7a6e",
        "colab": {
          "base_uri": "https://localhost:8080/"
        }
      },
      "execution_count": 38,
      "outputs": [
        {
          "output_type": "stream",
          "name": "stdout",
          "text": [
            "\n",
            "Class Distribution:\n",
            "Label\n",
            "0    206\n",
            "1    143\n",
            "Name: count, dtype: int64\n"
          ]
        }
      ]
    },
    {
      "cell_type": "markdown",
      "source": [
        "## Feature Extraction"
      ],
      "metadata": {
        "id": "6DgNEUA9R71Q"
      }
    },
    {
      "cell_type": "markdown",
      "source": [
        "### AAC - Amino Acid Compostion"
      ],
      "metadata": {
        "id": "zOBMuEmrSCNY"
      }
    },
    {
      "cell_type": "code",
      "source": [
        "def compute_acc(Sequence):\n",
        "  amino_acids = 'ACDEFGHIKLMNPQRSTVWY'\n",
        "  seq_len = len(Sequence)\n",
        "  if seq_len == 0:\n",
        "    return [0]*len(amino_acids)\n",
        "  aac = []\n",
        "  for aa in amino_acids:\n",
        "    aac.append(Sequence.count(aa)/seq_len)\n",
        "  return aac\n"
      ],
      "metadata": {
        "id": "M4sLi7LwSkWn"
      },
      "execution_count": 39,
      "outputs": []
    },
    {
      "cell_type": "code",
      "source": [
        "X = df['Sequence'].apply(compute_acc)\n",
        "X = np.array(X.tolist())\n",
        "y = df['Label'].values"
      ],
      "metadata": {
        "id": "lQsVl5mCTRT0"
      },
      "execution_count": 40,
      "outputs": []
    },
    {
      "cell_type": "code",
      "source": [
        "print(X,y)"
      ],
      "metadata": {
        "collapsed": true,
        "id": "VWuiXTTaTuek",
        "outputId": "f303a36b-eaba-4c6d-a265-cadd4682e11b",
        "colab": {
          "base_uri": "https://localhost:8080/"
        }
      },
      "execution_count": 41,
      "outputs": [
        {
          "output_type": "stream",
          "name": "stdout",
          "text": [
            "[[0.32352941 0.         0.         ... 0.08823529 0.02941176 0.        ]\n",
            " [0.07142857 0.         0.07142857 ... 0.         0.         0.        ]\n",
            " [0.05882353 0.         0.05882353 ... 0.17647059 0.         0.        ]\n",
            " ...\n",
            " [0.08333333 0.         0.11111111 ... 0.05555556 0.         0.        ]\n",
            " [0.07142857 0.         0.03571429 ... 0.10714286 0.         0.        ]\n",
            " [0.03703704 0.         0.07407407 ... 0.03703704 0.         0.        ]] [1 1 1 1 1 1 1 1 1 1 1 1 1 1 1 1 1 1 1 1 1 1 1 1 1 1 1 1 1 1 1 1 1 1 1 1 1\n",
            " 1 1 1 1 1 1 1 1 1 1 1 1 1 1 1 1 1 1 1 1 1 1 1 1 1 1 1 1 1 1 1 1 1 1 1 1 1\n",
            " 1 1 1 1 1 1 1 1 1 1 1 1 1 1 1 1 1 1 1 1 1 1 1 1 1 1 1 1 1 1 1 1 1 1 1 1 1\n",
            " 1 1 1 1 1 1 1 1 1 1 1 1 1 1 1 1 1 1 1 1 1 1 1 1 1 1 1 1 1 1 1 1 0 0 0 0 0\n",
            " 0 0 0 0 0 0 0 0 0 0 0 0 0 0 0 0 0 0 0 0 0 0 0 0 0 0 0 0 0 0 0 0 0 0 0 0 0\n",
            " 0 0 0 0 0 0 0 0 0 0 0 0 0 0 0 0 0 0 0 0 0 0 0 0 0 0 0 0 0 0 0 0 0 0 0 0 0\n",
            " 0 0 0 0 0 0 0 0 0 0 0 0 0 0 0 0 0 0 0 0 0 0 0 0 0 0 0 0 0 0 0 0 0 0 0 0 0\n",
            " 0 0 0 0 0 0 0 0 0 0 0 0 0 0 0 0 0 0 0 0 0 0 0 0 0 0 0 0 0 0 0 0 0 0 0 0 0\n",
            " 0 0 0 0 0 0 0 0 0 0 0 0 0 0 0 0 0 0 0 0 0 0 0 0 0 0 0 0 0 0 0 0 0 0 0 0 0\n",
            " 0 0 0 0 0 0 0 0 0 0 0 0 0 0 0 0]\n"
          ]
        }
      ]
    },
    {
      "cell_type": "markdown",
      "source": [
        "### DPC - Dipeptide Composition"
      ],
      "metadata": {
        "id": "CPsI2437SSyT"
      }
    },
    {
      "cell_type": "code",
      "source": [
        "from itertools import product\n",
        "\n",
        "# 1. Define 20 amino acids\n",
        "amino_acids = 'ACDEFGHIKLMNPQRSTVWY'\n",
        "\n",
        "# 2. Create all 400 possible dipeptides (AA, AC, AD, ..., YY)\n",
        "dipeptides = [aa1 + aa2 for aa1, aa2 in product(amino_acids, repeat=2)]\n",
        "\n",
        "# 3. Function to calculate DPC\n",
        "def calculate_dpc(sequence):\n",
        "    sequence = sequence.upper()\n",
        "    dpc_counts = {dipep: 0 for dipep in dipeptides}\n",
        "    total = len(sequence) - 1  # Total possible dipeptides\n",
        "\n",
        "    for i in range(total):\n",
        "        pair = sequence[i:i+2]\n",
        "        if pair in dpc_counts:\n",
        "            dpc_counts[pair] += 1\n",
        "\n",
        "    # Normalize\n",
        "    dpc_vector = [dpc_counts[dipep] / total if total > 0 else 0 for dipep in dipeptides]\n",
        "\n",
        "    return dpc_vector\n",
        "\n",
        "# 4. Apply to your dataset\n",
        "dpc_features = df['Sequence'].apply(calculate_dpc)\n",
        "\n",
        "# 5. Convert to DataFrame\n",
        "dpc_df = pd.DataFrame(dpc_features.tolist(), columns=[f'DPC_{d}' for d in dipeptides])\n",
        "X = np.array(X.tolist())\n",
        "y = df['Label'].values\n"
      ],
      "metadata": {
        "id": "1P4FSfDORMcF"
      },
      "execution_count": 42,
      "outputs": []
    },
    {
      "cell_type": "markdown",
      "source": [
        "## Combine AAC and DPC"
      ],
      "metadata": {
        "id": "ALLRL1osjb6w"
      }
    },
    {
      "cell_type": "code",
      "source": [
        "# 1. Combine AAC and DPC\n",
        "X_df = pd.DataFrame(X)\n",
        "combined_features = pd.concat([X_df, dpc_df], axis=1)\n",
        "\n",
        "# 2. Add labels (assumes your original df has 'label' column)\n",
        "combined_features['Label'] = df['Label']"
      ],
      "metadata": {
        "id": "wG1hf4KA3Fok"
      },
      "execution_count": 43,
      "outputs": []
    },
    {
      "cell_type": "code",
      "source": [
        "print(\"Shape of final dataset:\", combined_features.shape)\n",
        "print(\"First few rows:\")\n",
        "print(combined_features)"
      ],
      "metadata": {
        "colab": {
          "base_uri": "https://localhost:8080/"
        },
        "collapsed": true,
        "id": "MZfS9nlhhwde",
        "outputId": "855e1d81-784d-429e-f34d-54b59733913d"
      },
      "execution_count": 44,
      "outputs": [
        {
          "output_type": "stream",
          "name": "stdout",
          "text": [
            "Shape of final dataset: (349, 421)\n",
            "First few rows:\n",
            "            0         1         2         3         4         5         6  \\\n",
            "0    0.323529  0.000000  0.000000  0.088235  0.000000  0.117647  0.000000   \n",
            "1    0.071429  0.000000  0.071429  0.071429  0.071429  0.071429  0.000000   \n",
            "2    0.058824  0.000000  0.058824  0.000000  0.058824  0.176471  0.000000   \n",
            "3    0.058824  0.000000  0.058824  0.000000  0.058824  0.176471  0.000000   \n",
            "4    0.058824  0.000000  0.058824  0.000000  0.058824  0.176471  0.000000   \n",
            "..        ...       ...       ...       ...       ...       ...       ...   \n",
            "344  0.088235  0.029412  0.117647  0.058824  0.000000  0.000000  0.000000   \n",
            "345  0.035714  0.000000  0.035714  0.000000  0.035714  0.071429  0.071429   \n",
            "346  0.083333  0.000000  0.111111  0.083333  0.000000  0.027778  0.000000   \n",
            "347  0.071429  0.000000  0.035714  0.035714  0.000000  0.035714  0.035714   \n",
            "348  0.037037  0.000000  0.074074  0.037037  0.000000  0.074074  0.037037   \n",
            "\n",
            "            7         8         9  ...  DPC_YN    DPC_YP  DPC_YQ  DPC_YR  \\\n",
            "0    0.029412  0.176471  0.058824  ...     0.0  0.000000     0.0     0.0   \n",
            "1    0.285714  0.142857  0.071429  ...     0.0  0.000000     0.0     0.0   \n",
            "2    0.058824  0.117647  0.176471  ...     0.0  0.000000     0.0     0.0   \n",
            "3    0.058824  0.117647  0.176471  ...     0.0  0.000000     0.0     0.0   \n",
            "4    0.058824  0.117647  0.176471  ...     0.0  0.000000     0.0     0.0   \n",
            "..        ...       ...       ...  ...     ...       ...     ...     ...   \n",
            "344  0.088235  0.000000  0.147059  ...     0.0  0.000000     0.0     0.0   \n",
            "345  0.035714  0.000000  0.107143  ...     0.0  0.037037     0.0     0.0   \n",
            "346  0.055556  0.000000  0.166667  ...     0.0  0.000000     0.0     0.0   \n",
            "347  0.035714  0.000000  0.178571  ...     0.0  0.000000     0.0     0.0   \n",
            "348  0.000000  0.000000  0.148148  ...     0.0  0.000000     0.0     0.0   \n",
            "\n",
            "     DPC_YS  DPC_YT  DPC_YV  DPC_YW  DPC_YY  Label  \n",
            "0       0.0     0.0     0.0     0.0     0.0      1  \n",
            "1       0.0     0.0     0.0     0.0     0.0      1  \n",
            "2       0.0     0.0     0.0     0.0     0.0      1  \n",
            "3       0.0     0.0     0.0     0.0     0.0      1  \n",
            "4       0.0     0.0     0.0     0.0     0.0      1  \n",
            "..      ...     ...     ...     ...     ...    ...  \n",
            "344     0.0     0.0     0.0     0.0     0.0      0  \n",
            "345     0.0     0.0     0.0     0.0     0.0      0  \n",
            "346     0.0     0.0     0.0     0.0     0.0      0  \n",
            "347     0.0     0.0     0.0     0.0     0.0      0  \n",
            "348     0.0     0.0     0.0     0.0     0.0      0  \n",
            "\n",
            "[349 rows x 421 columns]\n"
          ]
        }
      ]
    },
    {
      "cell_type": "code",
      "source": [
        "# 1. Separate features and labels\n",
        "X = combined_features.drop('Label', axis=1)\n",
        "y = combined_features['Label']"
      ],
      "metadata": {
        "id": "hopNHez9kUgN"
      },
      "execution_count": 45,
      "outputs": []
    },
    {
      "cell_type": "code",
      "source": [
        "X_train, X_test, y_train, y_test = train_test_split(X, y, test_size=0.3, random_state=42)"
      ],
      "metadata": {
        "id": "NRCrojLeindL"
      },
      "execution_count": 46,
      "outputs": []
    },
    {
      "cell_type": "code",
      "source": [
        "\n",
        "models = {\n",
        "    \"Logistic Regression\": LogisticRegression(max_iter=1000),\n",
        "    \"Random Forest\": RandomForestClassifier(random_state=31),\n",
        "    \"Decision Tree\": DecisionTreeClassifier(),\n",
        "    \"Naive Bayes\": GaussianNB(),\n",
        "   \"Support Vector Machine\": SVC(),\n",
        "   \"K-Nearest Neighbors\": KNeighborsClassifier()\n",
        "}"
      ],
      "metadata": {
        "id": "tgd3__rUkG5S"
      },
      "execution_count": 81,
      "outputs": []
    },
    {
      "cell_type": "code",
      "source": [
        "# Loop through each model and print its accuracy\n",
        "for name, model in models.items():\n",
        "    # Convert column names to strings\n",
        "    X_train.columns = X_train.columns.astype(str)\n",
        "    X_test.columns = X_test.columns.astype(str)\n",
        "\n",
        "    model.fit(X_train, y_train)                      # train the model\n",
        "    y_pred = model.predict(X_test)                   # test the model\n",
        "    accuracy = accuracy_score(y_test, y_pred)        # get accuracy\n",
        "    print(f\"{name} Accuracy: {accuracy:.2f}\")\n",
        "    print(\"\\nConfusion Matrix:\\n\", confusion_matrix(y_test, y_pred))\n",
        "    print(\"\\nClassification Report:\\n\", classification_report(y_test, y_pred))"
      ],
      "metadata": {
        "colab": {
          "base_uri": "https://localhost:8080/"
        },
        "id": "gnNspMJekgKS",
        "outputId": "019ed09e-effc-4f5e-bc65-ee28a9f7e237"
      },
      "execution_count": 82,
      "outputs": [
        {
          "output_type": "stream",
          "name": "stdout",
          "text": [
            "Logistic Regression Accuracy: 0.84\n",
            "\n",
            "Confusion Matrix:\n",
            " [[58  1]\n",
            " [16 30]]\n",
            "\n",
            "Classification Report:\n",
            "               precision    recall  f1-score   support\n",
            "\n",
            "           0       0.78      0.98      0.87        59\n",
            "           1       0.97      0.65      0.78        46\n",
            "\n",
            "    accuracy                           0.84       105\n",
            "   macro avg       0.88      0.82      0.83       105\n",
            "weighted avg       0.86      0.84      0.83       105\n",
            "\n",
            "Random Forest Accuracy: 0.90\n",
            "\n",
            "Confusion Matrix:\n",
            " [[57  2]\n",
            " [ 9 37]]\n",
            "\n",
            "Classification Report:\n",
            "               precision    recall  f1-score   support\n",
            "\n",
            "           0       0.86      0.97      0.91        59\n",
            "           1       0.95      0.80      0.87        46\n",
            "\n",
            "    accuracy                           0.90       105\n",
            "   macro avg       0.91      0.89      0.89       105\n",
            "weighted avg       0.90      0.90      0.89       105\n",
            "\n",
            "Decision Tree Accuracy: 0.83\n",
            "\n",
            "Confusion Matrix:\n",
            " [[52  7]\n",
            " [11 35]]\n",
            "\n",
            "Classification Report:\n",
            "               precision    recall  f1-score   support\n",
            "\n",
            "           0       0.83      0.88      0.85        59\n",
            "           1       0.83      0.76      0.80        46\n",
            "\n",
            "    accuracy                           0.83       105\n",
            "   macro avg       0.83      0.82      0.82       105\n",
            "weighted avg       0.83      0.83      0.83       105\n",
            "\n",
            "Naive Bayes Accuracy: 0.70\n",
            "\n",
            "Confusion Matrix:\n",
            " [[41 18]\n",
            " [13 33]]\n",
            "\n",
            "Classification Report:\n",
            "               precision    recall  f1-score   support\n",
            "\n",
            "           0       0.76      0.69      0.73        59\n",
            "           1       0.65      0.72      0.68        46\n",
            "\n",
            "    accuracy                           0.70       105\n",
            "   macro avg       0.70      0.71      0.70       105\n",
            "weighted avg       0.71      0.70      0.71       105\n",
            "\n",
            "Support Vector Machine Accuracy: 0.89\n",
            "\n",
            "Confusion Matrix:\n",
            " [[55  4]\n",
            " [ 8 38]]\n",
            "\n",
            "Classification Report:\n",
            "               precision    recall  f1-score   support\n",
            "\n",
            "           0       0.87      0.93      0.90        59\n",
            "           1       0.90      0.83      0.86        46\n",
            "\n",
            "    accuracy                           0.89       105\n",
            "   macro avg       0.89      0.88      0.88       105\n",
            "weighted avg       0.89      0.89      0.88       105\n",
            "\n",
            "K-Nearest Neighbors Accuracy: 0.81\n",
            "\n",
            "Confusion Matrix:\n",
            " [[53  6]\n",
            " [14 32]]\n",
            "\n",
            "Classification Report:\n",
            "               precision    recall  f1-score   support\n",
            "\n",
            "           0       0.79      0.90      0.84        59\n",
            "           1       0.84      0.70      0.76        46\n",
            "\n",
            "    accuracy                           0.81       105\n",
            "   macro avg       0.82      0.80      0.80       105\n",
            "weighted avg       0.81      0.81      0.81       105\n",
            "\n"
          ]
        }
      ]
    },
    {
      "cell_type": "code",
      "source": [],
      "metadata": {
        "id": "zQ2ynktjkk3m"
      },
      "execution_count": 48,
      "outputs": []
    }
  ]
}