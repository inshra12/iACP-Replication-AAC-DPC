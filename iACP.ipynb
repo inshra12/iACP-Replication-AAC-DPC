{
  "nbformat": 4,
  "nbformat_minor": 0,
  "metadata": {
    "colab": {
      "provenance": [],
      "toc_visible": true,
      "authorship_tag": "ABX9TyMWMMOTBeyfur3YTT32m9Is",
      "include_colab_link": true
    },
    "kernelspec": {
      "name": "python3",
      "display_name": "Python 3"
    },
    "language_info": {
      "name": "python"
    }
  },
  "cells": [
    {
      "cell_type": "markdown",
      "metadata": {
        "id": "view-in-github",
        "colab_type": "text"
      },
      "source": [
        "<a href=\"https://colab.research.google.com/github/inshra12/iACP-Replication-AAC-DPC/blob/main/iACP.ipynb\" target=\"_parent\"><img src=\"https://colab.research.google.com/assets/colab-badge.svg\" alt=\"Open In Colab\"/></a>"
      ]
    },
    {
      "cell_type": "markdown",
      "source": [
        "# iACP anticancer peptides"
      ],
      "metadata": {
        "id": "rPFB1QDWRaWx"
      }
    },
    {
      "cell_type": "markdown",
      "source": [
        "## Importing Libraries"
      ],
      "metadata": {
        "id": "D85lc74mRmIb"
      }
    },
    {
      "cell_type": "code",
      "execution_count": 6,
      "metadata": {
        "id": "W6_TGGn8z5K2"
      },
      "outputs": [],
      "source": [
        "import pandas as pd\n",
        "import numpy as np"
      ]
    },
    {
      "cell_type": "markdown",
      "source": [
        "## Read CSV File"
      ],
      "metadata": {
        "id": "_MBabrRBRrsp"
      }
    },
    {
      "cell_type": "code",
      "source": [
        "df = pd.read_csv('/content/iACP_dataset.csv')"
      ],
      "metadata": {
        "id": "kn6j_3QFQ6Qr"
      },
      "execution_count": 3,
      "outputs": []
    },
    {
      "cell_type": "code",
      "source": [
        "#print(df)\n",
        "#print(df.info())\n",
        "print(\"\\nClass Distribution:\")\n",
        "print(df['Label'].value_counts())\n"
      ],
      "metadata": {
        "collapsed": true,
        "id": "LwmVbO9GRJ50",
        "outputId": "4152dd72-0bc9-43b4-a462-a35b42ebba59",
        "colab": {
          "base_uri": "https://localhost:8080/"
        }
      },
      "execution_count": 11,
      "outputs": [
        {
          "output_type": "stream",
          "name": "stdout",
          "text": [
            "\n",
            "Class Distribution:\n",
            "Label\n",
            "0    206\n",
            "1    143\n",
            "Name: count, dtype: int64\n"
          ]
        }
      ]
    },
    {
      "cell_type": "markdown",
      "source": [
        "## Feature Extraction"
      ],
      "metadata": {
        "id": "6DgNEUA9R71Q"
      }
    },
    {
      "cell_type": "markdown",
      "source": [
        "### AAC - Amino Acid Compostion"
      ],
      "metadata": {
        "id": "zOBMuEmrSCNY"
      }
    },
    {
      "cell_type": "code",
      "source": [
        "def compute_acc(Sequence):\n",
        "  amino_acids = 'ACDEFGHIKLMNPQRSTVWY'\n",
        "  seq_len = len(Sequence)\n",
        "  if seq_len == 0:\n",
        "    return [0]*len(amino_acids)\n",
        "  aac = []\n",
        "  for aa in amino_acids:\n",
        "    aac.append(Sequence.count(aa)/seq_len)\n",
        "  return aac\n"
      ],
      "metadata": {
        "id": "M4sLi7LwSkWn"
      },
      "execution_count": 5,
      "outputs": []
    },
    {
      "cell_type": "code",
      "source": [
        "X = df['Sequence'].apply(compute_acc)\n",
        "X = np.array(X.tolist())\n",
        "y = df['Label'].values"
      ],
      "metadata": {
        "id": "lQsVl5mCTRT0"
      },
      "execution_count": 7,
      "outputs": []
    },
    {
      "cell_type": "code",
      "source": [
        "print(X,y)"
      ],
      "metadata": {
        "collapsed": true,
        "id": "VWuiXTTaTuek",
        "outputId": "05cf7fad-f0c4-487c-dc83-fea570a2fa36",
        "colab": {
          "base_uri": "https://localhost:8080/"
        }
      },
      "execution_count": 9,
      "outputs": [
        {
          "output_type": "stream",
          "name": "stdout",
          "text": [
            "[[0.32352941 0.         0.         ... 0.08823529 0.02941176 0.        ]\n",
            " [0.07142857 0.         0.07142857 ... 0.         0.         0.        ]\n",
            " [0.05882353 0.         0.05882353 ... 0.17647059 0.         0.        ]\n",
            " ...\n",
            " [0.08333333 0.         0.11111111 ... 0.05555556 0.         0.        ]\n",
            " [0.07142857 0.         0.03571429 ... 0.10714286 0.         0.        ]\n",
            " [0.03703704 0.         0.07407407 ... 0.03703704 0.         0.        ]] [1 1 1 1 1 1 1 1 1 1 1 1 1 1 1 1 1 1 1 1 1 1 1 1 1 1 1 1 1 1 1 1 1 1 1 1 1\n",
            " 1 1 1 1 1 1 1 1 1 1 1 1 1 1 1 1 1 1 1 1 1 1 1 1 1 1 1 1 1 1 1 1 1 1 1 1 1\n",
            " 1 1 1 1 1 1 1 1 1 1 1 1 1 1 1 1 1 1 1 1 1 1 1 1 1 1 1 1 1 1 1 1 1 1 1 1 1\n",
            " 1 1 1 1 1 1 1 1 1 1 1 1 1 1 1 1 1 1 1 1 1 1 1 1 1 1 1 1 1 1 1 1 0 0 0 0 0\n",
            " 0 0 0 0 0 0 0 0 0 0 0 0 0 0 0 0 0 0 0 0 0 0 0 0 0 0 0 0 0 0 0 0 0 0 0 0 0\n",
            " 0 0 0 0 0 0 0 0 0 0 0 0 0 0 0 0 0 0 0 0 0 0 0 0 0 0 0 0 0 0 0 0 0 0 0 0 0\n",
            " 0 0 0 0 0 0 0 0 0 0 0 0 0 0 0 0 0 0 0 0 0 0 0 0 0 0 0 0 0 0 0 0 0 0 0 0 0\n",
            " 0 0 0 0 0 0 0 0 0 0 0 0 0 0 0 0 0 0 0 0 0 0 0 0 0 0 0 0 0 0 0 0 0 0 0 0 0\n",
            " 0 0 0 0 0 0 0 0 0 0 0 0 0 0 0 0 0 0 0 0 0 0 0 0 0 0 0 0 0 0 0 0 0 0 0 0 0\n",
            " 0 0 0 0 0 0 0 0 0 0 0 0 0 0 0 0]\n"
          ]
        }
      ]
    },
    {
      "cell_type": "markdown",
      "source": [
        "### DPC"
      ],
      "metadata": {
        "id": "CPsI2437SSyT"
      }
    },
    {
      "cell_type": "code",
      "source": [],
      "metadata": {
        "id": "1P4FSfDORMcF"
      },
      "execution_count": null,
      "outputs": []
    }
  ]
}