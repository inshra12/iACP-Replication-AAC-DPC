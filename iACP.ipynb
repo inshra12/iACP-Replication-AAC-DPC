{
  "nbformat": 4,
  "nbformat_minor": 0,
  "metadata": {
    "colab": {
      "provenance": [],
      "toc_visible": true,
      "authorship_tag": "ABX9TyPiDRXWP3o7c7FTL4OvxAjP",
      "include_colab_link": true
    },
    "kernelspec": {
      "name": "python3",
      "display_name": "Python 3"
    },
    "language_info": {
      "name": "python"
    }
  },
  "cells": [
    {
      "cell_type": "markdown",
      "metadata": {
        "id": "view-in-github",
        "colab_type": "text"
      },
      "source": [
        "<a href=\"https://colab.research.google.com/github/inshra12/iACP-Replication-AAC-DPC/blob/main/iACP.ipynb\" target=\"_parent\"><img src=\"https://colab.research.google.com/assets/colab-badge.svg\" alt=\"Open In Colab\"/></a>"
      ]
    },
    {
      "cell_type": "markdown",
      "source": [
        "# iACP anticancer peptides"
      ],
      "metadata": {
        "id": "rPFB1QDWRaWx"
      }
    },
    {
      "cell_type": "markdown",
      "source": [
        "## Importing Libraries"
      ],
      "metadata": {
        "id": "D85lc74mRmIb"
      }
    },
    {
      "cell_type": "code",
      "execution_count": 2,
      "metadata": {
        "id": "W6_TGGn8z5K2"
      },
      "outputs": [],
      "source": [
        "import pandas as pd\n",
        "import numpy as np"
      ]
    },
    {
      "cell_type": "markdown",
      "source": [
        "## Read CSV File"
      ],
      "metadata": {
        "id": "_MBabrRBRrsp"
      }
    },
    {
      "cell_type": "code",
      "source": [
        "df = pd.read_csv('/content/iACP_dataset.csv')"
      ],
      "metadata": {
        "id": "kn6j_3QFQ6Qr"
      },
      "execution_count": 3,
      "outputs": []
    },
    {
      "cell_type": "code",
      "source": [
        "#print(df)\n",
        "#print(df.info())\n",
        "print(\"\\nClass Distribution:\")\n",
        "print(df['Label'].value_counts())\n"
      ],
      "metadata": {
        "collapsed": true,
        "id": "LwmVbO9GRJ50",
        "outputId": "a5a62692-7718-4715-ab13-0ddd806ef567",
        "colab": {
          "base_uri": "https://localhost:8080/"
        }
      },
      "execution_count": 4,
      "outputs": [
        {
          "output_type": "stream",
          "name": "stdout",
          "text": [
            "\n",
            "Class Distribution:\n",
            "Label\n",
            "0    206\n",
            "1    143\n",
            "Name: count, dtype: int64\n"
          ]
        }
      ]
    },
    {
      "cell_type": "markdown",
      "source": [
        "## Feature Extraction"
      ],
      "metadata": {
        "id": "6DgNEUA9R71Q"
      }
    },
    {
      "cell_type": "markdown",
      "source": [
        "### AAC - Amino Acid Compostion"
      ],
      "metadata": {
        "id": "zOBMuEmrSCNY"
      }
    },
    {
      "cell_type": "code",
      "source": [
        "def compute_acc(Sequence):\n",
        "  amino_acids = 'ACDEFGHIKLMNPQRSTVWY'\n",
        "  seq_len = len(Sequence)\n",
        "  if seq_len == 0:\n",
        "    return [0]*len(amino_acids)\n",
        "  aac = []\n",
        "  for aa in amino_acids:\n",
        "    aac.append(Sequence.count(aa)/seq_len)\n",
        "  return aac\n"
      ],
      "metadata": {
        "id": "M4sLi7LwSkWn"
      },
      "execution_count": 5,
      "outputs": []
    },
    {
      "cell_type": "code",
      "source": [
        "X = df['Sequence'].apply(compute_acc)\n",
        "X = np.array(X.tolist())\n",
        "y = df['Label'].values"
      ],
      "metadata": {
        "id": "lQsVl5mCTRT0"
      },
      "execution_count": 6,
      "outputs": []
    },
    {
      "cell_type": "code",
      "source": [
        "print(X,y)"
      ],
      "metadata": {
        "collapsed": true,
        "id": "VWuiXTTaTuek",
        "outputId": "fac6eeb6-c422-4fe7-c7c8-279bd84581f1",
        "colab": {
          "base_uri": "https://localhost:8080/"
        }
      },
      "execution_count": 7,
      "outputs": [
        {
          "output_type": "stream",
          "name": "stdout",
          "text": [
            "[[0.32352941 0.         0.         ... 0.08823529 0.02941176 0.        ]\n",
            " [0.07142857 0.         0.07142857 ... 0.         0.         0.        ]\n",
            " [0.05882353 0.         0.05882353 ... 0.17647059 0.         0.        ]\n",
            " ...\n",
            " [0.08333333 0.         0.11111111 ... 0.05555556 0.         0.        ]\n",
            " [0.07142857 0.         0.03571429 ... 0.10714286 0.         0.        ]\n",
            " [0.03703704 0.         0.07407407 ... 0.03703704 0.         0.        ]] [1 1 1 1 1 1 1 1 1 1 1 1 1 1 1 1 1 1 1 1 1 1 1 1 1 1 1 1 1 1 1 1 1 1 1 1 1\n",
            " 1 1 1 1 1 1 1 1 1 1 1 1 1 1 1 1 1 1 1 1 1 1 1 1 1 1 1 1 1 1 1 1 1 1 1 1 1\n",
            " 1 1 1 1 1 1 1 1 1 1 1 1 1 1 1 1 1 1 1 1 1 1 1 1 1 1 1 1 1 1 1 1 1 1 1 1 1\n",
            " 1 1 1 1 1 1 1 1 1 1 1 1 1 1 1 1 1 1 1 1 1 1 1 1 1 1 1 1 1 1 1 1 0 0 0 0 0\n",
            " 0 0 0 0 0 0 0 0 0 0 0 0 0 0 0 0 0 0 0 0 0 0 0 0 0 0 0 0 0 0 0 0 0 0 0 0 0\n",
            " 0 0 0 0 0 0 0 0 0 0 0 0 0 0 0 0 0 0 0 0 0 0 0 0 0 0 0 0 0 0 0 0 0 0 0 0 0\n",
            " 0 0 0 0 0 0 0 0 0 0 0 0 0 0 0 0 0 0 0 0 0 0 0 0 0 0 0 0 0 0 0 0 0 0 0 0 0\n",
            " 0 0 0 0 0 0 0 0 0 0 0 0 0 0 0 0 0 0 0 0 0 0 0 0 0 0 0 0 0 0 0 0 0 0 0 0 0\n",
            " 0 0 0 0 0 0 0 0 0 0 0 0 0 0 0 0 0 0 0 0 0 0 0 0 0 0 0 0 0 0 0 0 0 0 0 0 0\n",
            " 0 0 0 0 0 0 0 0 0 0 0 0 0 0 0 0]\n"
          ]
        }
      ]
    },
    {
      "cell_type": "markdown",
      "source": [
        "### DPC - Dipeptide Composition"
      ],
      "metadata": {
        "id": "CPsI2437SSyT"
      }
    },
    {
      "cell_type": "code",
      "source": [
        "from itertools import product\n",
        "\n",
        "# 1. Define 20 amino acids\n",
        "amino_acids = 'ACDEFGHIKLMNPQRSTVWY'\n",
        "\n",
        "# 2. Create all 400 possible dipeptides (AA, AC, AD, ..., YY)\n",
        "dipeptides = [aa1 + aa2 for aa1, aa2 in product(amino_acids, repeat=2)]\n",
        "\n",
        "# 3. Function to calculate DPC\n",
        "def calculate_dpc(sequence):\n",
        "    sequence = sequence.upper()\n",
        "    dpc_counts = {dipep: 0 for dipep in dipeptides}\n",
        "    total = len(sequence) - 1  # Total possible dipeptides\n",
        "\n",
        "    for i in range(total):\n",
        "        pair = sequence[i:i+2]\n",
        "        if pair in dpc_counts:\n",
        "            dpc_counts[pair] += 1\n",
        "\n",
        "    # Normalize\n",
        "    dpc_vector = [dpc_counts[dipep] / total if total > 0 else 0 for dipep in dipeptides]\n",
        "\n",
        "    return dpc_vector\n",
        "\n",
        "# 4. Apply to your dataset\n",
        "dpc_features = df['Sequence'].apply(calculate_dpc)\n",
        "\n",
        "# 5. Convert to DataFrame\n",
        "dpc_df = pd.DataFrame(dpc_features.tolist(), columns=[f'DPC_{d}' for d in dipeptides])\n",
        "X = np.array(X.tolist())\n",
        "y = df['Label'].values\n"
      ],
      "metadata": {
        "id": "1P4FSfDORMcF"
      },
      "execution_count": 9,
      "outputs": []
    },
    {
      "cell_type": "code",
      "source": [
        "print(dpc_df)"
      ],
      "metadata": {
        "collapsed": true,
        "id": "wxReBXQS2xLx",
        "outputId": "07f09f10-63ae-49fe-b8d6-8361fbe85b41",
        "colab": {
          "base_uri": "https://localhost:8080/"
        }
      },
      "execution_count": 10,
      "outputs": [
        {
          "output_type": "stream",
          "name": "stdout",
          "text": [
            "       DPC_AA  DPC_AC  DPC_AD    DPC_AE  DPC_AF    DPC_AG  DPC_AH    DPC_AI  \\\n",
            "0    0.151515     0.0     0.0  0.000000  0.0000  0.030303     0.0  0.000000   \n",
            "1    0.000000     0.0     0.0  0.076923  0.0000  0.000000     0.0  0.000000   \n",
            "2    0.000000     0.0     0.0  0.000000  0.0625  0.000000     0.0  0.000000   \n",
            "3    0.000000     0.0     0.0  0.000000  0.0000  0.000000     0.0  0.000000   \n",
            "4    0.000000     0.0     0.0  0.000000  0.0000  0.062500     0.0  0.000000   \n",
            "..        ...     ...     ...       ...     ...       ...     ...       ...   \n",
            "344  0.000000     0.0     0.0  0.000000  0.0000  0.000000     0.0  0.060606   \n",
            "345  0.000000     0.0     0.0  0.000000  0.0000  0.000000     0.0  0.000000   \n",
            "346  0.000000     0.0     0.0  0.000000  0.0000  0.000000     0.0  0.057143   \n",
            "347  0.000000     0.0     0.0  0.000000  0.0000  0.037037     0.0  0.000000   \n",
            "348  0.000000     0.0     0.0  0.038462  0.0000  0.000000     0.0  0.000000   \n",
            "\n",
            "       DPC_AK    DPC_AL  ...  DPC_YM  DPC_YN    DPC_YP  DPC_YQ  DPC_YR  \\\n",
            "0    0.060606  0.030303  ...     0.0     0.0  0.000000     0.0     0.0   \n",
            "1    0.000000  0.000000  ...     0.0     0.0  0.000000     0.0     0.0   \n",
            "2    0.000000  0.000000  ...     0.0     0.0  0.000000     0.0     0.0   \n",
            "3    0.000000  0.062500  ...     0.0     0.0  0.000000     0.0     0.0   \n",
            "4    0.000000  0.000000  ...     0.0     0.0  0.000000     0.0     0.0   \n",
            "..        ...       ...  ...     ...     ...       ...     ...     ...   \n",
            "344  0.000000  0.030303  ...     0.0     0.0  0.000000     0.0     0.0   \n",
            "345  0.000000  0.000000  ...     0.0     0.0  0.037037     0.0     0.0   \n",
            "346  0.000000  0.000000  ...     0.0     0.0  0.000000     0.0     0.0   \n",
            "347  0.000000  0.000000  ...     0.0     0.0  0.000000     0.0     0.0   \n",
            "348  0.000000  0.000000  ...     0.0     0.0  0.000000     0.0     0.0   \n",
            "\n",
            "     DPC_YS  DPC_YT  DPC_YV  DPC_YW  DPC_YY  \n",
            "0       0.0     0.0     0.0     0.0     0.0  \n",
            "1       0.0     0.0     0.0     0.0     0.0  \n",
            "2       0.0     0.0     0.0     0.0     0.0  \n",
            "3       0.0     0.0     0.0     0.0     0.0  \n",
            "4       0.0     0.0     0.0     0.0     0.0  \n",
            "..      ...     ...     ...     ...     ...  \n",
            "344     0.0     0.0     0.0     0.0     0.0  \n",
            "345     0.0     0.0     0.0     0.0     0.0  \n",
            "346     0.0     0.0     0.0     0.0     0.0  \n",
            "347     0.0     0.0     0.0     0.0     0.0  \n",
            "348     0.0     0.0     0.0     0.0     0.0  \n",
            "\n",
            "[349 rows x 400 columns]\n"
          ]
        }
      ]
    },
    {
      "cell_type": "code",
      "source": [],
      "metadata": {
        "id": "wG1hf4KA3Fok"
      },
      "execution_count": null,
      "outputs": []
    }
  ]
}